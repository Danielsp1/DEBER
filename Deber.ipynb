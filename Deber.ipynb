{
 "cells": [
  {
   "cell_type": "code",
   "execution_count": 79,
   "metadata": {},
   "outputs": [],
   "source": [
    "import polars as pl\n"
   ]
  },
  {
   "cell_type": "code",
   "execution_count": 80,
   "metadata": {},
   "outputs": [
    {
     "name": "stdout",
     "output_type": "stream",
     "text": [
      "shape: (5, 7)\n",
      "┌──────────────┬──────────────┬──────────────┬─────────┬──────────────┬──────────────┬─────────────┐\n",
      "│ Numero       ┆ Ubicacion    ┆ Service Desk ┆ Estado  ┆ Fecha        ┆ Fecha        ┆ Fecha       │\n",
      "│ Ticket       ┆ ---          ┆ ---          ┆ ---     ┆ Creacion     ┆ Termino      ┆ Cierre      │\n",
      "│ ---          ┆ str          ┆ str          ┆ str     ┆ ---          ┆ ---          ┆ ---         │\n",
      "│ str          ┆              ┆              ┆         ┆ str          ┆ str          ┆ str         │\n",
      "╞══════════════╪══════════════╪══════════════╪═════════╪══════════════╪══════════════╪═════════════╡\n",
      "│ WO0000004122 ┆ AREQUIPA -   ┆ Zona Norte   ┆ Cerrado ┆ 2022-06-01   ┆ 2022-06-14   ┆ 2022-06-14  │\n",
      "│ 687          ┆ 215000       ┆              ┆         ┆              ┆              ┆             │\n",
      "│ WO0000004122 ┆ METRO AV.    ┆ Zona Centro  ┆ Cerrado ┆ 2022-06-01   ┆ 2022-06-17   ┆ 2022-06-17  │\n",
      "│ 649          ┆ WIESSE -     ┆              ┆         ┆              ┆              ┆             │\n",
      "│              ┆ 191106       ┆              ┆         ┆              ┆              ┆             │\n",
      "│ WO0000004122 ┆ NICOLAS      ┆ Zona Centro  ┆ Cerrado ┆ 2022-06-01   ┆ 2022-06-08   ┆ 2022-06-08  │\n",
      "│ 502          ┆ AYLLON -     ┆              ┆         ┆              ┆              ┆             │\n",
      "│              ┆ 191027       ┆              ┆         ┆              ┆              ┆             │\n",
      "│ WO0000004122 ┆ JAUREGUI -   ┆ Zona Norte   ┆ Cerrado ┆ 2022-06-01   ┆ 2022-06-18   ┆ 2022-06-18  │\n",
      "│ 513          ┆ 405005       ┆              ┆         ┆              ┆              ┆             │\n",
      "│ WO0000004122 ┆ CANTO GRANDE ┆ Zona Centro  ┆ Cerrado ┆ 2022-06-01   ┆ 2022-06-08   ┆ 2022-06-08  │\n",
      "│ 741          ┆ - 191096     ┆              ┆         ┆              ┆              ┆             │\n",
      "└──────────────┴──────────────┴──────────────┴─────────┴──────────────┴──────────────┴─────────────┘\n"
     ]
    }
   ],
   "source": [
    "\n",
    "\n",
    "# Especifica la ruta al archivo de texto plano\n",
    "ruta_archivo = r\"C:\\Users\\Diego\\OneDrive\\Escritorio\\DANIEL\\02 CURSO PYTHON PERU\\DEBER FINAL\\Tickets\\Tickets Historico.txt\"\n",
    "\n",
    "# Carga el archivo de texto plano en un DataFrame de Polars, especificando el separador\n",
    "df = pl.read_csv(ruta_archivo, separator=';')\n",
    "\n",
    "# Define la lista de encabezados que deseas mantener\n",
    "\n",
    "# Selecciona solo las columnas especificadas\n",
    "df = df.select([\"Numero Ticket\", \"Ubicacion\", \"Service Desk\", \"Estado\", \"Fecha Creacion\", \"Fecha Termino\", \"Fecha Cierre\"])\n",
    "\n",
    "# Muestra las primeras filas del DataFrame\n",
    "print(df.head())\n",
    "\n",
    "\n"
   ]
  },
  {
   "cell_type": "code",
   "execution_count": 81,
   "metadata": {},
   "outputs": [],
   "source": [
    "df = df.select([\n",
    "    pl.col(\"Numero Ticket\").alias(\"TicketID\"),\n",
    "    pl.col(\"Ubicacion\"),\n",
    "    pl.col(\"Service Desk\"),\n",
    "    pl.col(\"Estado\"),\n",
    "    pl.col(\"Fecha Creacion\").cast(pl.Date).alias(\"Fecha Creacion\"),\n",
    "    pl.col(\"Fecha Termino\").cast(pl.Date).alias(\"Fecha Termino\"),\n",
    "    pl.col(\"Fecha Cierre\").cast(pl.Date).alias(\"Fecha Cierre\")\n",
    "])\n"
   ]
  },
  {
   "cell_type": "code",
   "execution_count": 82,
   "metadata": {},
   "outputs": [
    {
     "name": "stdout",
     "output_type": "stream",
     "text": [
      "shape: (5, 7)\n",
      "┌──────────────┬──────────────┬──────────────┬─────────┬──────────────┬──────────────┬─────────────┐\n",
      "│ TicketID     ┆ Ubicacion    ┆ Service Desk ┆ Estado  ┆ Fecha        ┆ Fecha        ┆ Fecha       │\n",
      "│ ---          ┆ ---          ┆ ---          ┆ ---     ┆ Creacion     ┆ Termino      ┆ Cierre      │\n",
      "│ str          ┆ str          ┆ str          ┆ str     ┆ ---          ┆ ---          ┆ ---         │\n",
      "│              ┆              ┆              ┆         ┆ date         ┆ date         ┆ date        │\n",
      "╞══════════════╪══════════════╪══════════════╪═════════╪══════════════╪══════════════╪═════════════╡\n",
      "│ WO0000004122 ┆ AREQUIPA -   ┆ Zona Norte   ┆ Cerrado ┆ 2022-06-01   ┆ 2022-06-14   ┆ 2022-06-14  │\n",
      "│ 687          ┆ 215000       ┆              ┆         ┆              ┆              ┆             │\n",
      "│ WO0000004122 ┆ METRO AV.    ┆ Zona Centro  ┆ Cerrado ┆ 2022-06-01   ┆ 2022-06-17   ┆ 2022-06-17  │\n",
      "│ 649          ┆ WIESSE -     ┆              ┆         ┆              ┆              ┆             │\n",
      "│              ┆ 191106       ┆              ┆         ┆              ┆              ┆             │\n",
      "│ WO0000004122 ┆ NICOLAS      ┆ Zona Centro  ┆ Cerrado ┆ 2022-06-01   ┆ 2022-06-08   ┆ 2022-06-08  │\n",
      "│ 502          ┆ AYLLON -     ┆              ┆         ┆              ┆              ┆             │\n",
      "│              ┆ 191027       ┆              ┆         ┆              ┆              ┆             │\n",
      "│ WO0000004122 ┆ JAUREGUI -   ┆ Zona Norte   ┆ Cerrado ┆ 2022-06-01   ┆ 2022-06-18   ┆ 2022-06-18  │\n",
      "│ 513          ┆ 405005       ┆              ┆         ┆              ┆              ┆             │\n",
      "│ WO0000004122 ┆ CANTO GRANDE ┆ Zona Centro  ┆ Cerrado ┆ 2022-06-01   ┆ 2022-06-08   ┆ 2022-06-08  │\n",
      "│ 741          ┆ - 191096     ┆              ┆         ┆              ┆              ┆             │\n",
      "└──────────────┴──────────────┴──────────────┴─────────┴──────────────┴──────────────┴─────────────┘\n"
     ]
    }
   ],
   "source": [
    "print(df.head())"
   ]
  },
  {
   "cell_type": "code",
   "execution_count": 83,
   "metadata": {},
   "outputs": [
    {
     "name": "stdout",
     "output_type": "stream",
     "text": [
      "shape: (5, 7)\n",
      "┌──────────────┬──────────────┬──────────────┬─────────┬──────────────┬──────────────┬─────────────┐\n",
      "│ Numero       ┆ Ubicacion    ┆ Service Desk ┆ Estado  ┆ Fecha        ┆ Fecha        ┆ Fecha       │\n",
      "│ Ticket       ┆ ---          ┆ ---          ┆ ---     ┆ Creacion     ┆ Termino      ┆ Cierre      │\n",
      "│ ---          ┆ str          ┆ str          ┆ str     ┆ ---          ┆ ---          ┆ ---         │\n",
      "│ str          ┆              ┆              ┆         ┆ str          ┆ str          ┆ str         │\n",
      "╞══════════════╪══════════════╪══════════════╪═════════╪══════════════╪══════════════╪═════════════╡\n",
      "│ WO0000004853 ┆ TUPAC AMARU  ┆ Zona Centro  ┆ Cerrado ┆ 2023-01-02   ┆ 10-01-2023   ┆ 13-01-2023  │\n",
      "│ 311          ┆ - 191038     ┆              ┆         ┆              ┆              ┆             │\n",
      "│ WO0000004852 ┆ SAN JUAN DE  ┆ Zona Centro  ┆ Cerrado ┆ 2023-01-02   ┆ 2-01-2023    ┆ 5-01-2023   │\n",
      "│ 942          ┆ LURIGANCHO - ┆              ┆         ┆              ┆              ┆             │\n",
      "│              ┆ 191017       ┆              ┆         ┆              ┆              ┆             │\n",
      "│ WO0000004852 ┆ MARIANO      ┆ Zona Norte   ┆ Cerrado ┆ 2023-01-02   ┆ 6-01-2023    ┆ 9-01-2023   │\n",
      "│ 621          ┆ MELGAR -     ┆              ┆         ┆              ┆              ┆             │\n",
      "│              ┆ 215014       ┆              ┆         ┆              ┆              ┆             │\n",
      "│ SA0000004853 ┆ ANDAHUAYLAS  ┆ Zona Norte   ┆ Cerrado ┆ 2023-01-02   ┆ 7-01-2023    ┆ 10-01-2023  │\n",
      "│ 328          ┆ - 205000     ┆              ┆         ┆              ┆              ┆             │\n",
      "│ SA0000004853 ┆ COLLIQUE -   ┆ Zona Centro  ┆ Cerrado ┆ 2023-01-02   ┆ 4-01-2023    ┆ 7-01-2023   │\n",
      "│ 160          ┆ 191065       ┆              ┆         ┆              ┆              ┆             │\n",
      "└──────────────┴──────────────┴──────────────┴─────────┴──────────────┴──────────────┴─────────────┘\n"
     ]
    }
   ],
   "source": [
    "\n",
    "# Especifica la ruta al archivo de texto plano\n",
    "ruta_archivo = r\"C:\\Users\\Diego\\OneDrive\\Escritorio\\DANIEL\\02 CURSO PYTHON PERU\\DEBER FINAL\\Tickets\\Tickets Actual.csv\"\n",
    "\n",
    "# Carga el archivo de texto plano en un DataFrame de Polars, especificando el separador\n",
    "df2 = pl.read_csv(ruta_archivo, separator='|')\n",
    "\n",
    "# Selecciona solo las columnas especificadas\n",
    "df2 = df2.select([\"Numero Ticket\", \"Ubicacion\", \"Service Desk\", \"Estado\", \"Fecha Creacion\", \"Fecha Termino\", \"Fecha Cierre\"])\n",
    "\n",
    "# Muestra las primeras filas del DataFrame\n",
    "print(df2.head())\n",
    "\n",
    "\n",
    "\n"
   ]
  },
  {
   "cell_type": "code",
   "execution_count": 93,
   "metadata": {},
   "outputs": [
    {
     "data": {
      "text/html": [
       "<div><style>\n",
       ".dataframe > thead > tr,\n",
       ".dataframe > tbody > tr {\n",
       "  text-align: right;\n",
       "  white-space: pre-wrap;\n",
       "}\n",
       "</style>\n",
       "<small>shape: (5, 7)</small><table border=\"1\" class=\"dataframe\"><thead><tr><th>TicketID</th><th>Ubicacion</th><th>Service Desk</th><th>Estado</th><th>Fecha Creacion</th><th>Fecha Termino</th><th>Fecha Cierre</th></tr><tr><td>str</td><td>str</td><td>str</td><td>str</td><td>date</td><td>str</td><td>str</td></tr></thead><tbody><tr><td>&quot;OT000000573638…</td><td>&quot;TARAPACA - 191…</td><td>&quot;Zona Centro&quot;</td><td>&quot;En curso&quot;</td><td>2023-10-29</td><td>null</td><td>null</td></tr><tr><td>&quot;OT000000573684…</td><td>&quot;NARANJAL - 191…</td><td>&quot;Zona Centro&quot;</td><td>&quot;En curso&quot;</td><td>2023-10-29</td><td>null</td><td>null</td></tr><tr><td>&quot;OT000000573684…</td><td>&quot;NARANJAL - 191…</td><td>&quot;Zona Centro&quot;</td><td>&quot;En curso&quot;</td><td>2023-10-29</td><td>null</td><td>null</td></tr><tr><td>&quot;OT000000573685…</td><td>&quot;NARANJAL - 191…</td><td>&quot;Zona Centro&quot;</td><td>&quot;En curso&quot;</td><td>2023-10-29</td><td>null</td><td>null</td></tr><tr><td>&quot;OT000000573685…</td><td>&quot;NARANJAL - 191…</td><td>&quot;Zona Centro&quot;</td><td>&quot;En curso&quot;</td><td>2023-10-29</td><td>null</td><td>null</td></tr></tbody></table></div>"
      ],
      "text/plain": [
       "shape: (5, 7)\n",
       "┌───────────────┬───────────────┬───────────────┬──────────┬──────────────┬─────────┬──────────────┐\n",
       "│ TicketID      ┆ Ubicacion     ┆ Service Desk  ┆ Estado   ┆ Fecha        ┆ Fecha   ┆ Fecha Cierre │\n",
       "│ ---           ┆ ---           ┆ ---           ┆ ---      ┆ Creacion     ┆ Termino ┆ ---          │\n",
       "│ str           ┆ str           ┆ str           ┆ str      ┆ ---          ┆ ---     ┆ str          │\n",
       "│               ┆               ┆               ┆          ┆ date         ┆ str     ┆              │\n",
       "╞═══════════════╪═══════════════╪═══════════════╪══════════╪══════════════╪═════════╪══════════════╡\n",
       "│ OT00000057363 ┆ TARAPACA -    ┆ Zona Centro   ┆ En curso ┆ 2023-10-29   ┆ null    ┆ null         │\n",
       "│ 87            ┆ 191030        ┆               ┆          ┆              ┆         ┆              │\n",
       "│ OT00000057368 ┆ NARANJAL -    ┆ Zona Centro   ┆ En curso ┆ 2023-10-29   ┆ null    ┆ null         │\n",
       "│ 45            ┆ 191141        ┆               ┆          ┆              ┆         ┆              │\n",
       "│ OT00000057368 ┆ NARANJAL -    ┆ Zona Centro   ┆ En curso ┆ 2023-10-29   ┆ null    ┆ null         │\n",
       "│ 47            ┆ 191141        ┆               ┆          ┆              ┆         ┆              │\n",
       "│ OT00000057368 ┆ NARANJAL -    ┆ Zona Centro   ┆ En curso ┆ 2023-10-29   ┆ null    ┆ null         │\n",
       "│ 53            ┆ 191141        ┆               ┆          ┆              ┆         ┆              │\n",
       "│ OT00000057368 ┆ NARANJAL -    ┆ Zona Centro   ┆ En curso ┆ 2023-10-29   ┆ null    ┆ null         │\n",
       "│ 55            ┆ 191141        ┆               ┆          ┆              ┆         ┆              │\n",
       "└───────────────┴───────────────┴───────────────┴──────────┴──────────────┴─────────┴──────────────┘"
      ]
     },
     "execution_count": 93,
     "metadata": {},
     "output_type": "execute_result"
    }
   ],
   "source": [
    "tickets = df2.sort(\n",
    "    by = ['TicketID', 'Fecha Creacion'],\n",
    ").unique(\n",
    "    subset='TicketID',\n",
    "    keep = 'last',\n",
    "    maintain_order = True \n",
    ")\n",
    "\n",
    "tickets.head()"
   ]
  },
  {
   "cell_type": "code",
   "execution_count": 94,
   "metadata": {},
   "outputs": [
    {
     "data": {
      "text/html": [
       "<div><style>\n",
       ".dataframe > thead > tr,\n",
       ".dataframe > tbody > tr {\n",
       "  text-align: right;\n",
       "  white-space: pre-wrap;\n",
       "}\n",
       "</style>\n",
       "<small>shape: (5, 9)</small><table border=\"1\" class=\"dataframe\"><thead><tr><th>TicketID</th><th>Ubicacion</th><th>Service Desk</th><th>Estado</th><th>Fecha Creacion</th><th>Fecha Termino</th><th>Fecha Cierre</th><th>Agencia</th><th>AgenciaID</th></tr><tr><td>str</td><td>str</td><td>str</td><td>str</td><td>date</td><td>str</td><td>str</td><td>str</td><td>str</td></tr></thead><tbody><tr><td>&quot;OT000000573638…</td><td>&quot;TARAPACA - 191…</td><td>&quot;Zona Centro&quot;</td><td>&quot;En curso&quot;</td><td>2023-10-29</td><td>null</td><td>null</td><td>&quot;TARAPACA&quot;</td><td>&quot;191030&quot;</td></tr><tr><td>&quot;OT000000573684…</td><td>&quot;NARANJAL - 191…</td><td>&quot;Zona Centro&quot;</td><td>&quot;En curso&quot;</td><td>2023-10-29</td><td>null</td><td>null</td><td>&quot;NARANJAL&quot;</td><td>&quot;191141&quot;</td></tr><tr><td>&quot;OT000000573684…</td><td>&quot;NARANJAL - 191…</td><td>&quot;Zona Centro&quot;</td><td>&quot;En curso&quot;</td><td>2023-10-29</td><td>null</td><td>null</td><td>&quot;NARANJAL&quot;</td><td>&quot;191141&quot;</td></tr><tr><td>&quot;OT000000573685…</td><td>&quot;NARANJAL - 191…</td><td>&quot;Zona Centro&quot;</td><td>&quot;En curso&quot;</td><td>2023-10-29</td><td>null</td><td>null</td><td>&quot;NARANJAL&quot;</td><td>&quot;191141&quot;</td></tr><tr><td>&quot;OT000000573685…</td><td>&quot;NARANJAL - 191…</td><td>&quot;Zona Centro&quot;</td><td>&quot;En curso&quot;</td><td>2023-10-29</td><td>null</td><td>null</td><td>&quot;NARANJAL&quot;</td><td>&quot;191141&quot;</td></tr></tbody></table></div>"
      ],
      "text/plain": [
       "shape: (5, 9)\n",
       "┌──────────────────┬────────────┬─────────┬──────────┬───┬─────────┬────────┬──────────┬───────────┐\n",
       "│ TicketID         ┆ Ubicacion  ┆ Service ┆ Estado   ┆ … ┆ Fecha   ┆ Fecha  ┆ Agencia  ┆ AgenciaID │\n",
       "│ ---              ┆ ---        ┆ Desk    ┆ ---      ┆   ┆ Termino ┆ Cierre ┆ ---      ┆ ---       │\n",
       "│ str              ┆ str        ┆ ---     ┆ str      ┆   ┆ ---     ┆ ---    ┆ str      ┆ str       │\n",
       "│                  ┆            ┆ str     ┆          ┆   ┆ str     ┆ str    ┆          ┆           │\n",
       "╞══════════════════╪════════════╪═════════╪══════════╪═══╪═════════╪════════╪══════════╪═══════════╡\n",
       "│ OT0000005736387  ┆ TARAPACA - ┆ Zona    ┆ En curso ┆ … ┆ null    ┆ null   ┆ TARAPACA ┆ 191030    │\n",
       "│                  ┆ 191030     ┆ Centro  ┆          ┆   ┆         ┆        ┆          ┆           │\n",
       "│ OT0000005736845  ┆ NARANJAL - ┆ Zona    ┆ En curso ┆ … ┆ null    ┆ null   ┆ NARANJAL ┆ 191141    │\n",
       "│                  ┆ 191141     ┆ Centro  ┆          ┆   ┆         ┆        ┆          ┆           │\n",
       "│ OT0000005736847  ┆ NARANJAL - ┆ Zona    ┆ En curso ┆ … ┆ null    ┆ null   ┆ NARANJAL ┆ 191141    │\n",
       "│                  ┆ 191141     ┆ Centro  ┆          ┆   ┆         ┆        ┆          ┆           │\n",
       "│ OT0000005736853  ┆ NARANJAL - ┆ Zona    ┆ En curso ┆ … ┆ null    ┆ null   ┆ NARANJAL ┆ 191141    │\n",
       "│                  ┆ 191141     ┆ Centro  ┆          ┆   ┆         ┆        ┆          ┆           │\n",
       "│ OT0000005736855  ┆ NARANJAL - ┆ Zona    ┆ En curso ┆ … ┆ null    ┆ null   ┆ NARANJAL ┆ 191141    │\n",
       "│                  ┆ 191141     ┆ Centro  ┆          ┆   ┆         ┆        ┆          ┆           │\n",
       "└──────────────────┴────────────┴─────────┴──────────┴───┴─────────┴────────┴──────────┴───────────┘"
      ]
     },
     "execution_count": 94,
     "metadata": {},
     "output_type": "execute_result"
    }
   ],
   "source": [
    "tickets = tickets.with_columns(\n",
    "    pl.col('Ubicacion')\n",
    "    .str.split_exact(' - ', 1)\n",
    "    .struct.rename_fields(['Agencia', 'AgenciaID'])\n",
    "    .alias('Agencia')\n",
    ").unnest('Agencia')\n",
    "\n",
    "tickets.head()"
   ]
  },
  {
   "cell_type": "code",
   "execution_count": 95,
   "metadata": {},
   "outputs": [
    {
     "data": {
      "text/html": [
       "<div><style>\n",
       ".dataframe > thead > tr,\n",
       ".dataframe > tbody > tr {\n",
       "  text-align: right;\n",
       "  white-space: pre-wrap;\n",
       "}\n",
       "</style>\n",
       "<small>shape: (5, 9)</small><table border=\"1\" class=\"dataframe\"><thead><tr><th>TicketID</th><th>Ubicacion</th><th>Service Desk</th><th>Estado</th><th>Fecha Creacion</th><th>Fecha Termino</th><th>Fecha Cierre</th><th>Agencia</th><th>AgenciaID</th></tr><tr><td>str</td><td>str</td><td>str</td><td>str</td><td>date</td><td>str</td><td>str</td><td>str</td><td>i64</td></tr></thead><tbody><tr><td>&quot;OT000000573638…</td><td>&quot;TARAPACA - 191…</td><td>&quot;Zona Centro&quot;</td><td>&quot;En curso&quot;</td><td>2023-10-29</td><td>null</td><td>null</td><td>&quot;TARAPACA&quot;</td><td>191030</td></tr><tr><td>&quot;OT000000573684…</td><td>&quot;NARANJAL - 191…</td><td>&quot;Zona Centro&quot;</td><td>&quot;En curso&quot;</td><td>2023-10-29</td><td>null</td><td>null</td><td>&quot;NARANJAL&quot;</td><td>191141</td></tr><tr><td>&quot;OT000000573684…</td><td>&quot;NARANJAL - 191…</td><td>&quot;Zona Centro&quot;</td><td>&quot;En curso&quot;</td><td>2023-10-29</td><td>null</td><td>null</td><td>&quot;NARANJAL&quot;</td><td>191141</td></tr><tr><td>&quot;OT000000573685…</td><td>&quot;NARANJAL - 191…</td><td>&quot;Zona Centro&quot;</td><td>&quot;En curso&quot;</td><td>2023-10-29</td><td>null</td><td>null</td><td>&quot;NARANJAL&quot;</td><td>191141</td></tr><tr><td>&quot;OT000000573685…</td><td>&quot;NARANJAL - 191…</td><td>&quot;Zona Centro&quot;</td><td>&quot;En curso&quot;</td><td>2023-10-29</td><td>null</td><td>null</td><td>&quot;NARANJAL&quot;</td><td>191141</td></tr></tbody></table></div>"
      ],
      "text/plain": [
       "shape: (5, 9)\n",
       "┌──────────────────┬────────────┬─────────┬──────────┬───┬─────────┬────────┬──────────┬───────────┐\n",
       "│ TicketID         ┆ Ubicacion  ┆ Service ┆ Estado   ┆ … ┆ Fecha   ┆ Fecha  ┆ Agencia  ┆ AgenciaID │\n",
       "│ ---              ┆ ---        ┆ Desk    ┆ ---      ┆   ┆ Termino ┆ Cierre ┆ ---      ┆ ---       │\n",
       "│ str              ┆ str        ┆ ---     ┆ str      ┆   ┆ ---     ┆ ---    ┆ str      ┆ i64       │\n",
       "│                  ┆            ┆ str     ┆          ┆   ┆ str     ┆ str    ┆          ┆           │\n",
       "╞══════════════════╪════════════╪═════════╪══════════╪═══╪═════════╪════════╪══════════╪═══════════╡\n",
       "│ OT0000005736387  ┆ TARAPACA - ┆ Zona    ┆ En curso ┆ … ┆ null    ┆ null   ┆ TARAPACA ┆ 191030    │\n",
       "│                  ┆ 191030     ┆ Centro  ┆          ┆   ┆         ┆        ┆          ┆           │\n",
       "│ OT0000005736845  ┆ NARANJAL - ┆ Zona    ┆ En curso ┆ … ┆ null    ┆ null   ┆ NARANJAL ┆ 191141    │\n",
       "│                  ┆ 191141     ┆ Centro  ┆          ┆   ┆         ┆        ┆          ┆           │\n",
       "│ OT0000005736847  ┆ NARANJAL - ┆ Zona    ┆ En curso ┆ … ┆ null    ┆ null   ┆ NARANJAL ┆ 191141    │\n",
       "│                  ┆ 191141     ┆ Centro  ┆          ┆   ┆         ┆        ┆          ┆           │\n",
       "│ OT0000005736853  ┆ NARANJAL - ┆ Zona    ┆ En curso ┆ … ┆ null    ┆ null   ┆ NARANJAL ┆ 191141    │\n",
       "│                  ┆ 191141     ┆ Centro  ┆          ┆   ┆         ┆        ┆          ┆           │\n",
       "│ OT0000005736855  ┆ NARANJAL - ┆ Zona    ┆ En curso ┆ … ┆ null    ┆ null   ┆ NARANJAL ┆ 191141    │\n",
       "│                  ┆ 191141     ┆ Centro  ┆          ┆   ┆         ┆        ┆          ┆           │\n",
       "└──────────────────┴────────────┴─────────┴──────────┴───┴─────────┴────────┴──────────┴───────────┘"
      ]
     },
     "execution_count": 95,
     "metadata": {},
     "output_type": "execute_result"
    }
   ],
   "source": [
    "tickets = tickets.cast({'AgenciaID': pl.Int64})\n",
    "\n",
    "tickets.head()"
   ]
  },
  {
   "cell_type": "code",
   "execution_count": 96,
   "metadata": {},
   "outputs": [
    {
     "data": {
      "text/html": [
       "<div><style>\n",
       ".dataframe > thead > tr,\n",
       ".dataframe > tbody > tr {\n",
       "  text-align: right;\n",
       "  white-space: pre-wrap;\n",
       "}\n",
       "</style>\n",
       "<small>shape: (5, 10)</small><table border=\"1\" class=\"dataframe\"><thead><tr><th>TicketID</th><th>Ubicacion</th><th>Service Desk</th><th>Estado</th><th>Fecha Creacion</th><th>Fecha Termino</th><th>Fecha Cierre</th><th>Agencia</th><th>AgenciaID</th><th>Fecha Real Fin</th></tr><tr><td>str</td><td>str</td><td>str</td><td>str</td><td>date</td><td>str</td><td>str</td><td>str</td><td>i64</td><td>str</td></tr></thead><tbody><tr><td>&quot;OT000000573638…</td><td>&quot;TARAPACA - 191…</td><td>&quot;Zona Centro&quot;</td><td>&quot;En curso&quot;</td><td>2023-10-29</td><td>null</td><td>null</td><td>&quot;TARAPACA&quot;</td><td>191030</td><td>null</td></tr><tr><td>&quot;OT000000573684…</td><td>&quot;NARANJAL - 191…</td><td>&quot;Zona Centro&quot;</td><td>&quot;En curso&quot;</td><td>2023-10-29</td><td>null</td><td>null</td><td>&quot;NARANJAL&quot;</td><td>191141</td><td>null</td></tr><tr><td>&quot;OT000000573684…</td><td>&quot;NARANJAL - 191…</td><td>&quot;Zona Centro&quot;</td><td>&quot;En curso&quot;</td><td>2023-10-29</td><td>null</td><td>null</td><td>&quot;NARANJAL&quot;</td><td>191141</td><td>null</td></tr><tr><td>&quot;OT000000573685…</td><td>&quot;NARANJAL - 191…</td><td>&quot;Zona Centro&quot;</td><td>&quot;En curso&quot;</td><td>2023-10-29</td><td>null</td><td>null</td><td>&quot;NARANJAL&quot;</td><td>191141</td><td>null</td></tr><tr><td>&quot;OT000000573685…</td><td>&quot;NARANJAL - 191…</td><td>&quot;Zona Centro&quot;</td><td>&quot;En curso&quot;</td><td>2023-10-29</td><td>null</td><td>null</td><td>&quot;NARANJAL&quot;</td><td>191141</td><td>null</td></tr></tbody></table></div>"
      ],
      "text/plain": [
       "shape: (5, 10)\n",
       "┌─────────────┬─────────────┬─────────┬──────────┬───┬────────┬──────────┬───────────┬─────────────┐\n",
       "│ TicketID    ┆ Ubicacion   ┆ Service ┆ Estado   ┆ … ┆ Fecha  ┆ Agencia  ┆ AgenciaID ┆ Fecha Real  │\n",
       "│ ---         ┆ ---         ┆ Desk    ┆ ---      ┆   ┆ Cierre ┆ ---      ┆ ---       ┆ Fin         │\n",
       "│ str         ┆ str         ┆ ---     ┆ str      ┆   ┆ ---    ┆ str      ┆ i64       ┆ ---         │\n",
       "│             ┆             ┆ str     ┆          ┆   ┆ str    ┆          ┆           ┆ str         │\n",
       "╞═════════════╪═════════════╪═════════╪══════════╪═══╪════════╪══════════╪═══════════╪═════════════╡\n",
       "│ OT000000573 ┆ TARAPACA -  ┆ Zona    ┆ En curso ┆ … ┆ null   ┆ TARAPACA ┆ 191030    ┆ null        │\n",
       "│ 6387        ┆ 191030      ┆ Centro  ┆          ┆   ┆        ┆          ┆           ┆             │\n",
       "│ OT000000573 ┆ NARANJAL -  ┆ Zona    ┆ En curso ┆ … ┆ null   ┆ NARANJAL ┆ 191141    ┆ null        │\n",
       "│ 6845        ┆ 191141      ┆ Centro  ┆          ┆   ┆        ┆          ┆           ┆             │\n",
       "│ OT000000573 ┆ NARANJAL -  ┆ Zona    ┆ En curso ┆ … ┆ null   ┆ NARANJAL ┆ 191141    ┆ null        │\n",
       "│ 6847        ┆ 191141      ┆ Centro  ┆          ┆   ┆        ┆          ┆           ┆             │\n",
       "│ OT000000573 ┆ NARANJAL -  ┆ Zona    ┆ En curso ┆ … ┆ null   ┆ NARANJAL ┆ 191141    ┆ null        │\n",
       "│ 6853        ┆ 191141      ┆ Centro  ┆          ┆   ┆        ┆          ┆           ┆             │\n",
       "│ OT000000573 ┆ NARANJAL -  ┆ Zona    ┆ En curso ┆ … ┆ null   ┆ NARANJAL ┆ 191141    ┆ null        │\n",
       "│ 6855        ┆ 191141      ┆ Centro  ┆          ┆   ┆        ┆          ┆           ┆             │\n",
       "└─────────────┴─────────────┴─────────┴──────────┴───┴────────┴──────────┴───────────┴─────────────┘"
      ]
     },
     "execution_count": 96,
     "metadata": {},
     "output_type": "execute_result"
    }
   ],
   "source": [
    "tickets = tickets.with_columns(\n",
    "    pl.when(pl.col('Fecha Termino').is_null())\n",
    "    .then(pl.col('Fecha Cierre'))\n",
    "    .otherwise(pl.col('Fecha Termino'))\n",
    "    .alias('Fecha Real Fin')\n",
    ")\n",
    "\n",
    "tickets.head()"
   ]
  },
  {
   "cell_type": "code",
   "execution_count": 98,
   "metadata": {},
   "outputs": [
    {
     "ename": "ColumnNotFoundError",
     "evalue": "Dias Cierre",
     "output_type": "error",
     "traceback": [
      "\u001b[1;31m---------------------------------------------------------------------------\u001b[0m",
      "\u001b[1;31mColumnNotFoundError\u001b[0m                       Traceback (most recent call last)",
      "Cell \u001b[1;32mIn[98], line 1\u001b[0m\n\u001b[1;32m----> 1\u001b[0m tickets \u001b[38;5;241m=\u001b[39m \u001b[43mtickets\u001b[49m\u001b[38;5;241;43m.\u001b[39;49m\u001b[43mwith_columns\u001b[49m\u001b[43m(\u001b[49m\n\u001b[0;32m      2\u001b[0m \u001b[43m    \u001b[49m\u001b[43mpl\u001b[49m\u001b[38;5;241;43m.\u001b[39;49m\u001b[43mwhen\u001b[49m\u001b[43m(\u001b[49m\u001b[43mpl\u001b[49m\u001b[38;5;241;43m.\u001b[39;49m\u001b[43mcol\u001b[49m\u001b[43m(\u001b[49m\u001b[38;5;124;43m'\u001b[39;49m\u001b[38;5;124;43mDias Cierre\u001b[39;49m\u001b[38;5;124;43m'\u001b[39;49m\u001b[43m)\u001b[49m\u001b[38;5;241;43m.\u001b[39;49m\u001b[43mis_not_null\u001b[49m\u001b[43m(\u001b[49m\u001b[43m)\u001b[49m\u001b[43m)\u001b[49m\n\u001b[0;32m      3\u001b[0m \u001b[43m    \u001b[49m\u001b[38;5;241;43m.\u001b[39;49m\u001b[43mthen\u001b[49m\u001b[43m(\u001b[49m\n\u001b[0;32m      4\u001b[0m \u001b[43m        \u001b[49m\u001b[43mpl\u001b[49m\u001b[38;5;241;43m.\u001b[39;49m\u001b[43mwhen\u001b[49m\u001b[43m(\u001b[49m\u001b[43mpl\u001b[49m\u001b[38;5;241;43m.\u001b[39;49m\u001b[43mcol\u001b[49m\u001b[43m(\u001b[49m\u001b[38;5;124;43m'\u001b[39;49m\u001b[38;5;124;43mDias Cierre\u001b[39;49m\u001b[38;5;124;43m'\u001b[39;49m\u001b[43m)\u001b[49m\u001b[43m \u001b[49m\u001b[38;5;241;43m<\u001b[39;49m\u001b[43m \u001b[49m\u001b[38;5;241;43m3\u001b[39;49m\u001b[43m)\u001b[49m\n\u001b[0;32m      5\u001b[0m \u001b[43m        \u001b[49m\u001b[38;5;241;43m.\u001b[39;49m\u001b[43mthen\u001b[49m\u001b[43m(\u001b[49m\u001b[43mpl\u001b[49m\u001b[38;5;241;43m.\u001b[39;49m\u001b[43mlit\u001b[49m\u001b[43m(\u001b[49m\u001b[38;5;124;43m'\u001b[39;49m\u001b[38;5;124;43m0 a 3 días\u001b[39;49m\u001b[38;5;124;43m'\u001b[39;49m\u001b[43m)\u001b[49m\u001b[43m)\u001b[49m\n\u001b[0;32m      6\u001b[0m \u001b[43m        \u001b[49m\u001b[38;5;241;43m.\u001b[39;49m\u001b[43mwhen\u001b[49m\u001b[43m(\u001b[49m\u001b[43mpl\u001b[49m\u001b[38;5;241;43m.\u001b[39;49m\u001b[43mcol\u001b[49m\u001b[43m(\u001b[49m\u001b[38;5;124;43m'\u001b[39;49m\u001b[38;5;124;43mDias Cierre\u001b[39;49m\u001b[38;5;124;43m'\u001b[39;49m\u001b[43m)\u001b[49m\u001b[43m \u001b[49m\u001b[38;5;241;43m<\u001b[39;49m\u001b[43m \u001b[49m\u001b[38;5;241;43m7\u001b[39;49m\u001b[43m)\u001b[49m\n\u001b[0;32m      7\u001b[0m \u001b[43m        \u001b[49m\u001b[38;5;241;43m.\u001b[39;49m\u001b[43mthen\u001b[49m\u001b[43m(\u001b[49m\u001b[43mpl\u001b[49m\u001b[38;5;241;43m.\u001b[39;49m\u001b[43mlit\u001b[49m\u001b[43m(\u001b[49m\u001b[38;5;124;43m'\u001b[39;49m\u001b[38;5;124;43m3 a 7 días\u001b[39;49m\u001b[38;5;124;43m'\u001b[39;49m\u001b[43m)\u001b[49m\u001b[43m)\u001b[49m\n\u001b[0;32m      8\u001b[0m \u001b[43m        \u001b[49m\u001b[38;5;241;43m.\u001b[39;49m\u001b[43mwhen\u001b[49m\u001b[43m(\u001b[49m\u001b[43mpl\u001b[49m\u001b[38;5;241;43m.\u001b[39;49m\u001b[43mcol\u001b[49m\u001b[43m(\u001b[49m\u001b[38;5;124;43m'\u001b[39;49m\u001b[38;5;124;43mDias Cierre\u001b[39;49m\u001b[38;5;124;43m'\u001b[39;49m\u001b[43m)\u001b[49m\u001b[43m \u001b[49m\u001b[38;5;241;43m<\u001b[39;49m\u001b[43m \u001b[49m\u001b[38;5;241;43m15\u001b[39;49m\u001b[43m)\u001b[49m\n\u001b[0;32m      9\u001b[0m \u001b[43m        \u001b[49m\u001b[38;5;241;43m.\u001b[39;49m\u001b[43mthen\u001b[49m\u001b[43m(\u001b[49m\u001b[43mpl\u001b[49m\u001b[38;5;241;43m.\u001b[39;49m\u001b[43mlit\u001b[49m\u001b[43m(\u001b[49m\u001b[38;5;124;43m'\u001b[39;49m\u001b[38;5;124;43m7 a 15 días\u001b[39;49m\u001b[38;5;124;43m'\u001b[39;49m\u001b[43m)\u001b[49m\u001b[43m)\u001b[49m\n\u001b[0;32m     10\u001b[0m \u001b[43m        \u001b[49m\u001b[38;5;241;43m.\u001b[39;49m\u001b[43motherwise\u001b[49m\u001b[43m(\u001b[49m\u001b[43mpl\u001b[49m\u001b[38;5;241;43m.\u001b[39;49m\u001b[43mlit\u001b[49m\u001b[43m(\u001b[49m\u001b[38;5;124;43m'\u001b[39;49m\u001b[38;5;124;43m+ 15 dias\u001b[39;49m\u001b[38;5;124;43m'\u001b[39;49m\u001b[43m)\u001b[49m\u001b[43m)\u001b[49m\u001b[43m  \u001b[49m\n\u001b[0;32m     11\u001b[0m \u001b[43m    \u001b[49m\u001b[43m)\u001b[49m\n\u001b[0;32m     12\u001b[0m \u001b[43m    \u001b[49m\u001b[38;5;241;43m.\u001b[39;49m\u001b[43malias\u001b[49m\u001b[43m(\u001b[49m\u001b[38;5;124;43m'\u001b[39;49m\u001b[38;5;124;43mGrupo Dias\u001b[39;49m\u001b[38;5;124;43m'\u001b[39;49m\u001b[43m)\u001b[49m\n\u001b[0;32m     13\u001b[0m \u001b[43m)\u001b[49m\n\u001b[0;32m     15\u001b[0m tickets\u001b[38;5;241m.\u001b[39mhead(\u001b[38;5;241m10\u001b[39m)\n",
      "File \u001b[1;32mc:\\Users\\Diego\\OneDrive\\Escritorio\\DANIEL\\02 CURSO PYTHON PERU\\DEBER FINAL\\Gestio_atenciones\\lib\\site-packages\\polars\\dataframe\\frame.py:8315\u001b[0m, in \u001b[0;36mDataFrame.with_columns\u001b[1;34m(self, *exprs, **named_exprs)\u001b[0m\n\u001b[0;32m   8169\u001b[0m \u001b[38;5;28;01mdef\u001b[39;00m \u001b[38;5;21mwith_columns\u001b[39m(\n\u001b[0;32m   8170\u001b[0m     \u001b[38;5;28mself\u001b[39m,\n\u001b[0;32m   8171\u001b[0m     \u001b[38;5;241m*\u001b[39mexprs: IntoExpr \u001b[38;5;241m|\u001b[39m Iterable[IntoExpr],\n\u001b[0;32m   8172\u001b[0m     \u001b[38;5;241m*\u001b[39m\u001b[38;5;241m*\u001b[39mnamed_exprs: IntoExpr,\n\u001b[0;32m   8173\u001b[0m ) \u001b[38;5;241m-\u001b[39m\u001b[38;5;241m>\u001b[39m DataFrame:\n\u001b[0;32m   8174\u001b[0m \u001b[38;5;250m    \u001b[39m\u001b[38;5;124;03m\"\"\"\u001b[39;00m\n\u001b[0;32m   8175\u001b[0m \u001b[38;5;124;03m    Add columns to this DataFrame.\u001b[39;00m\n\u001b[0;32m   8176\u001b[0m \n\u001b[1;32m   (...)\u001b[0m\n\u001b[0;32m   8313\u001b[0m \u001b[38;5;124;03m    └─────┴──────┴─────────────┘\u001b[39;00m\n\u001b[0;32m   8314\u001b[0m \u001b[38;5;124;03m    \"\"\"\u001b[39;00m\n\u001b[1;32m-> 8315\u001b[0m     \u001b[38;5;28;01mreturn\u001b[39;00m \u001b[38;5;28;43mself\u001b[39;49m\u001b[38;5;241;43m.\u001b[39;49m\u001b[43mlazy\u001b[49m\u001b[43m(\u001b[49m\u001b[43m)\u001b[49m\u001b[38;5;241;43m.\u001b[39;49m\u001b[43mwith_columns\u001b[49m\u001b[43m(\u001b[49m\u001b[38;5;241;43m*\u001b[39;49m\u001b[43mexprs\u001b[49m\u001b[43m,\u001b[49m\u001b[43m \u001b[49m\u001b[38;5;241;43m*\u001b[39;49m\u001b[38;5;241;43m*\u001b[39;49m\u001b[43mnamed_exprs\u001b[49m\u001b[43m)\u001b[49m\u001b[38;5;241;43m.\u001b[39;49m\u001b[43mcollect\u001b[49m\u001b[43m(\u001b[49m\u001b[43m_eager\u001b[49m\u001b[38;5;241;43m=\u001b[39;49m\u001b[38;5;28;43;01mTrue\u001b[39;49;00m\u001b[43m)\u001b[49m\n",
      "File \u001b[1;32mc:\\Users\\Diego\\OneDrive\\Escritorio\\DANIEL\\02 CURSO PYTHON PERU\\DEBER FINAL\\Gestio_atenciones\\lib\\site-packages\\polars\\lazyframe\\frame.py:1940\u001b[0m, in \u001b[0;36mLazyFrame.collect\u001b[1;34m(self, type_coercion, predicate_pushdown, projection_pushdown, simplify_expression, slice_pushdown, comm_subplan_elim, comm_subexpr_elim, no_optimization, streaming, background, _eager)\u001b[0m\n\u001b[0;32m   1937\u001b[0m \u001b[38;5;28;01mif\u001b[39;00m background:\n\u001b[0;32m   1938\u001b[0m     \u001b[38;5;28;01mreturn\u001b[39;00m InProcessQuery(ldf\u001b[38;5;241m.\u001b[39mcollect_concurrently())\n\u001b[1;32m-> 1940\u001b[0m \u001b[38;5;28;01mreturn\u001b[39;00m wrap_df(\u001b[43mldf\u001b[49m\u001b[38;5;241;43m.\u001b[39;49m\u001b[43mcollect\u001b[49m\u001b[43m(\u001b[49m\u001b[43m)\u001b[49m)\n",
      "\u001b[1;31mColumnNotFoundError\u001b[0m: Dias Cierre"
     ]
    }
   ],
   "source": [
    "tickets = tickets.with_columns(\n",
    "    pl.when(pl.col('Dias Cierre').is_not_null())\n",
    "    .then(\n",
    "        pl.when(pl.col('Dias Cierre') < 3)\n",
    "        .then(pl.lit('0 a 3 días'))\n",
    "        .when(pl.col('Dias Cierre') < 7)\n",
    "        .then(pl.lit('3 a 7 días'))\n",
    "        .when(pl.col('Dias Cierre') < 15)\n",
    "        .then(pl.lit('7 a 15 días'))\n",
    "        .otherwise(pl.lit('+ 15 dias'))  \n",
    "    )\n",
    "    .alias('Grupo Dias')\n",
    ")\n",
    "\n",
    "tickets.head(10)"
   ]
  },
  {
   "cell_type": "code",
   "execution_count": 99,
   "metadata": {},
   "outputs": [
    {
     "ename": "NameError",
     "evalue": "name 'Path' is not defined",
     "output_type": "error",
     "traceback": [
      "\u001b[1;31m---------------------------------------------------------------------------\u001b[0m",
      "\u001b[1;31mNameError\u001b[0m                                 Traceback (most recent call last)",
      "Cell \u001b[1;32mIn[99], line 1\u001b[0m\n\u001b[1;32m----> 1\u001b[0m rutaCarpeta \u001b[38;5;241m=\u001b[39m \u001b[43mPath\u001b[49m(\u001b[38;5;124m'\u001b[39m\u001b[38;5;124m./Atenciones/\u001b[39m\u001b[38;5;124m'\u001b[39m)\n\u001b[0;32m      2\u001b[0m archivosExcel \u001b[38;5;241m=\u001b[39m \u001b[38;5;28mlist\u001b[39m(rutaCarpeta\u001b[38;5;241m.\u001b[39mglob(\u001b[38;5;124m'\u001b[39m\u001b[38;5;124m*.xlsx\u001b[39m\u001b[38;5;124m'\u001b[39m))\n\u001b[0;32m      3\u001b[0m \u001b[38;5;28;01mfor\u001b[39;00m archivo \u001b[38;5;129;01min\u001b[39;00m archivosExcel:\n",
      "\u001b[1;31mNameError\u001b[0m: name 'Path' is not defined"
     ]
    }
   ],
   "source": [
    "rutaCarpeta = Path('./Atenciones/')\n",
    "archivosExcel = list(rutaCarpeta.glob('*.xlsx'))\n",
    "for archivo in archivosExcel:\n",
    "    file = str(archivo).split(\"\\\\\")[1]\n",
    "    atenciones = pl.read_excel(\n",
    "        source= './Atenciones/' + file,\n",
    "        sheet_name='Hoja1',\n",
    "        engine='xlsx2csv',\n",
    "        read_options={\n",
    "            \"columns\": [\"Numero Ticket\", \"Tipo de Ticket\", \"Proveedor\", \"Costo Atencion\"],\n",
    "            \"dtypes\": {\n",
    "                    \"Costo Atencion\": pl.Utf8\n",
    "                }\n",
    "            }   \n",
    "    )\n",
    "    \n",
    "atenciones.head()"
   ]
  },
  {
   "cell_type": "code",
   "execution_count": 100,
   "metadata": {},
   "outputs": [
    {
     "ename": "NameError",
     "evalue": "name 'atenciones' is not defined",
     "output_type": "error",
     "traceback": [
      "\u001b[1;31m---------------------------------------------------------------------------\u001b[0m",
      "\u001b[1;31mNameError\u001b[0m                                 Traceback (most recent call last)",
      "Cell \u001b[1;32mIn[100], line 1\u001b[0m\n\u001b[1;32m----> 1\u001b[0m atenciones \u001b[38;5;241m=\u001b[39m \u001b[43matenciones\u001b[49m\u001b[38;5;241m.\u001b[39mselect(\n\u001b[0;32m      2\u001b[0m     pl\u001b[38;5;241m.\u001b[39mcol(\u001b[38;5;124m'\u001b[39m\u001b[38;5;124mNumero Ticket\u001b[39m\u001b[38;5;124m'\u001b[39m)\u001b[38;5;241m.\u001b[39malias(\u001b[38;5;124m'\u001b[39m\u001b[38;5;124mTicketID\u001b[39m\u001b[38;5;124m'\u001b[39m),\n\u001b[0;32m      3\u001b[0m     \u001b[38;5;124m'\u001b[39m\u001b[38;5;124mTipo de Ticket\u001b[39m\u001b[38;5;124m'\u001b[39m, \u001b[38;5;124m'\u001b[39m\u001b[38;5;124mProveedor\u001b[39m\u001b[38;5;124m'\u001b[39m,\n\u001b[0;32m      4\u001b[0m     pl\u001b[38;5;241m.\u001b[39mcol(\u001b[38;5;124m'\u001b[39m\u001b[38;5;124mCosto Atencion\u001b[39m\u001b[38;5;124m'\u001b[39m)\u001b[38;5;241m.\u001b[39mstr\u001b[38;5;241m.\u001b[39mstrip_chars()\n\u001b[0;32m      5\u001b[0m     \u001b[38;5;241m.\u001b[39mstr\u001b[38;5;241m.\u001b[39mto_uppercase()\n\u001b[0;32m      6\u001b[0m     \u001b[38;5;241m.\u001b[39mstr\u001b[38;5;241m.\u001b[39mreplace_many(\n\u001b[0;32m      7\u001b[0m         [\u001b[38;5;124m'\u001b[39m\u001b[38;5;124mCOSTO CERO\u001b[39m\u001b[38;5;124m'\u001b[39m, \u001b[38;5;124m'\u001b[39m\u001b[38;5;124mSIN COSTO\u001b[39m\u001b[38;5;124m'\u001b[39m],\n\u001b[0;32m      8\u001b[0m         \u001b[38;5;124m\"\u001b[39m\u001b[38;5;124m0\u001b[39m\u001b[38;5;124m\"\u001b[39m\n\u001b[0;32m      9\u001b[0m     )\n\u001b[0;32m     10\u001b[0m )\n\u001b[0;32m     12\u001b[0m atenciones\u001b[38;5;241m.\u001b[39mhead()\n",
      "\u001b[1;31mNameError\u001b[0m: name 'atenciones' is not defined"
     ]
    }
   ],
   "source": [
    "atenciones = atenciones.select(\n",
    "    pl.col('Numero Ticket').alias('TicketID'),\n",
    "    'Tipo de Ticket', 'Proveedor',\n",
    "    pl.col('Costo Atencion').str.strip_chars()\n",
    "    .str.to_uppercase()\n",
    "    .str.replace_many(\n",
    "        ['COSTO CERO', 'SIN COSTO'],\n",
    "        \"0\"\n",
    "    )\n",
    ")\n",
    "\n",
    "atenciones.head()"
   ]
  },
  {
   "cell_type": "code",
   "execution_count": 101,
   "metadata": {},
   "outputs": [],
   "source": [
    "def text_to_decimal(valor):\n",
    "    try:\n",
    "        return round(float(valor), 2)\n",
    "    except: \n",
    "        return None"
   ]
  },
  {
   "cell_type": "code",
   "execution_count": 102,
   "metadata": {},
   "outputs": [
    {
     "ename": "NameError",
     "evalue": "name 'atenciones' is not defined",
     "output_type": "error",
     "traceback": [
      "\u001b[1;31m---------------------------------------------------------------------------\u001b[0m",
      "\u001b[1;31mNameError\u001b[0m                                 Traceback (most recent call last)",
      "Cell \u001b[1;32mIn[102], line 1\u001b[0m\n\u001b[1;32m----> 1\u001b[0m \u001b[43matenciones\u001b[49m\u001b[38;5;241m.\u001b[39mfilter(\n\u001b[0;32m      2\u001b[0m     pl\u001b[38;5;241m.\u001b[39mcol(\u001b[38;5;124m'\u001b[39m\u001b[38;5;124mCosto Atencion\u001b[39m\u001b[38;5;124m'\u001b[39m)\u001b[38;5;241m.\u001b[39mis_not_null()\n\u001b[0;32m      3\u001b[0m )\n",
      "\u001b[1;31mNameError\u001b[0m: name 'atenciones' is not defined"
     ]
    }
   ],
   "source": [
    "atenciones.filter(\n",
    "    pl.col('Costo Atencion').is_not_null()\n",
    ")"
   ]
  },
  {
   "cell_type": "code",
   "execution_count": 103,
   "metadata": {},
   "outputs": [
    {
     "ename": "NameError",
     "evalue": "name 'atenciones' is not defined",
     "output_type": "error",
     "traceback": [
      "\u001b[1;31m---------------------------------------------------------------------------\u001b[0m",
      "\u001b[1;31mNameError\u001b[0m                                 Traceback (most recent call last)",
      "Cell \u001b[1;32mIn[103], line 2\u001b[0m\n\u001b[0;32m      1\u001b[0m tickets_join_atenciones \u001b[38;5;241m=\u001b[39m tickets\u001b[38;5;241m.\u001b[39mjoin(\n\u001b[1;32m----> 2\u001b[0m     \u001b[43matenciones\u001b[49m,\n\u001b[0;32m      3\u001b[0m     on\u001b[38;5;241m=\u001b[39m\u001b[38;5;124m'\u001b[39m\u001b[38;5;124mTicketID\u001b[39m\u001b[38;5;124m'\u001b[39m,\n\u001b[0;32m      4\u001b[0m     how\u001b[38;5;241m=\u001b[39m\u001b[38;5;124m'\u001b[39m\u001b[38;5;124minner\u001b[39m\u001b[38;5;124m'\u001b[39m\n\u001b[0;32m      5\u001b[0m )\n\u001b[0;32m      7\u001b[0m tickets_join_atenciones\u001b[38;5;241m.\u001b[39mhead()\n",
      "\u001b[1;31mNameError\u001b[0m: name 'atenciones' is not defined"
     ]
    }
   ],
   "source": [
    "tickets_join_atenciones = tickets.join(\n",
    "    atenciones,\n",
    "    on='TicketID',\n",
    "    how='inner'\n",
    ")\n",
    "\n",
    "tickets_join_atenciones.head()"
   ]
  },
  {
   "cell_type": "code",
   "execution_count": 104,
   "metadata": {},
   "outputs": [
    {
     "ename": "NameError",
     "evalue": "name 'tickets_join_atenciones' is not defined",
     "output_type": "error",
     "traceback": [
      "\u001b[1;31m---------------------------------------------------------------------------\u001b[0m",
      "\u001b[1;31mNameError\u001b[0m                                 Traceback (most recent call last)",
      "Cell \u001b[1;32mIn[104], line 1\u001b[0m\n\u001b[1;32m----> 1\u001b[0m tickets_join_atenciones \u001b[38;5;241m=\u001b[39m \u001b[43mtickets_join_atenciones\u001b[49m\u001b[38;5;241m.\u001b[39mselect(\n\u001b[0;32m      2\u001b[0m     \u001b[38;5;124m'\u001b[39m\u001b[38;5;124mTicketID\u001b[39m\u001b[38;5;124m'\u001b[39m, \u001b[38;5;124m'\u001b[39m\u001b[38;5;124mProveedor\u001b[39m\u001b[38;5;124m'\u001b[39m, \u001b[38;5;124m'\u001b[39m\u001b[38;5;124mAgenciaID\u001b[39m\u001b[38;5;124m'\u001b[39m, \n\u001b[0;32m      3\u001b[0m     \u001b[38;5;124m'\u001b[39m\u001b[38;5;124mAgencia\u001b[39m\u001b[38;5;124m'\u001b[39m, \u001b[38;5;124m'\u001b[39m\u001b[38;5;124mService Desk\u001b[39m\u001b[38;5;124m'\u001b[39m, \u001b[38;5;124m'\u001b[39m\u001b[38;5;124mEstado\u001b[39m\u001b[38;5;124m'\u001b[39m, \n\u001b[0;32m      4\u001b[0m     \u001b[38;5;124m'\u001b[39m\u001b[38;5;124mFecha Creacion\u001b[39m\u001b[38;5;124m'\u001b[39m, \n\u001b[0;32m      5\u001b[0m     pl\u001b[38;5;241m.\u001b[39mcol(\u001b[38;5;124m'\u001b[39m\u001b[38;5;124mFecha Real Fin\u001b[39m\u001b[38;5;124m'\u001b[39m)\u001b[38;5;241m.\u001b[39malias(\u001b[38;5;124m'\u001b[39m\u001b[38;5;124mFecha Cierre\u001b[39m\u001b[38;5;124m'\u001b[39m),\n\u001b[0;32m      6\u001b[0m     \u001b[38;5;124m'\u001b[39m\u001b[38;5;124mGrupo Dias\u001b[39m\u001b[38;5;124m'\u001b[39m, \n\u001b[0;32m      7\u001b[0m     pl\u001b[38;5;241m.\u001b[39mcol(\u001b[38;5;124m'\u001b[39m\u001b[38;5;124mTipo de Ticket\u001b[39m\u001b[38;5;124m'\u001b[39m)\u001b[38;5;241m.\u001b[39malias(\u001b[38;5;124m'\u001b[39m\u001b[38;5;124mTipo Ticket\u001b[39m\u001b[38;5;124m'\u001b[39m),\n\u001b[0;32m      8\u001b[0m     pl\u001b[38;5;241m.\u001b[39mcol(\u001b[38;5;124m'\u001b[39m\u001b[38;5;124mCosto Atencion\u001b[39m\u001b[38;5;124m'\u001b[39m)\u001b[38;5;241m.\u001b[39malias(\u001b[38;5;124m'\u001b[39m\u001b[38;5;124mCosto\u001b[39m\u001b[38;5;124m'\u001b[39m),\n\u001b[0;32m      9\u001b[0m )\n\u001b[0;32m     11\u001b[0m tickets_join_atenciones\u001b[38;5;241m.\u001b[39mhead()\n",
      "\u001b[1;31mNameError\u001b[0m: name 'tickets_join_atenciones' is not defined"
     ]
    }
   ],
   "source": [
    "tickets_join_atenciones = tickets_join_atenciones.select(\n",
    "    'TicketID', 'Proveedor', 'AgenciaID', \n",
    "    'Agencia', 'Service Desk', 'Estado', \n",
    "    'Fecha Creacion', \n",
    "    pl.col('Fecha Real Fin').alias('Fecha Cierre'),\n",
    "    'Grupo Dias', \n",
    "    pl.col('Tipo de Ticket').alias('Tipo Ticket'),\n",
    "    pl.col('Costo Atencion').alias('Costo'),\n",
    ")\n",
    "\n",
    "tickets_join_atenciones.head()"
   ]
  },
  {
   "cell_type": "code",
   "execution_count": 105,
   "metadata": {},
   "outputs": [
    {
     "ename": "NameError",
     "evalue": "name 'tickets_join_atenciones' is not defined",
     "output_type": "error",
     "traceback": [
      "\u001b[1;31m---------------------------------------------------------------------------\u001b[0m",
      "\u001b[1;31mNameError\u001b[0m                                 Traceback (most recent call last)",
      "Cell \u001b[1;32mIn[105], line 1\u001b[0m\n\u001b[1;32m----> 1\u001b[0m \u001b[43mtickets_join_atenciones\u001b[49m\u001b[38;5;241m.\u001b[39mwrite_excel(\n\u001b[0;32m      2\u001b[0m     workbook\u001b[38;5;241m=\u001b[39m\u001b[38;5;124m'\u001b[39m\u001b[38;5;124mConsolidado.xlsx\u001b[39m\u001b[38;5;124m'\u001b[39m,\n\u001b[0;32m      3\u001b[0m     worksheet\u001b[38;5;241m=\u001b[39m\u001b[38;5;124m'\u001b[39m\u001b[38;5;124mAtenciones\u001b[39m\u001b[38;5;124m'\u001b[39m\n\u001b[0;32m      4\u001b[0m )\n",
      "\u001b[1;31mNameError\u001b[0m: name 'tickets_join_atenciones' is not defined"
     ]
    }
   ],
   "source": [
    "tickets_join_atenciones.write_excel(\n",
    "    workbook='Consolidado.xlsx',\n",
    "    worksheet='Atenciones'\n",
    ")"
   ]
  },
  {
   "cell_type": "code",
   "execution_count": null,
   "metadata": {},
   "outputs": [],
   "source": []
  }
 ],
 "metadata": {
  "kernelspec": {
   "display_name": "Gestio_atenciones",
   "language": "python",
   "name": "python3"
  },
  "language_info": {
   "codemirror_mode": {
    "name": "ipython",
    "version": 3
   },
   "file_extension": ".py",
   "mimetype": "text/x-python",
   "name": "python",
   "nbconvert_exporter": "python",
   "pygments_lexer": "ipython3",
   "version": "3.10.2"
  }
 },
 "nbformat": 4,
 "nbformat_minor": 2
}
